{
  "nbformat": 4,
  "nbformat_minor": 0,
  "metadata": {
    "colab": {
      "provenance": [],
      "authorship_tag": "ABX9TyP1+bx9nvEFIa6+V781wWb5",
      "include_colab_link": true
    },
    "kernelspec": {
      "name": "python3",
      "display_name": "Python 3"
    },
    "language_info": {
      "name": "python"
    }
  },
  "cells": [
    {
      "cell_type": "markdown",
      "metadata": {
        "id": "view-in-github",
        "colab_type": "text"
      },
      "source": [
        "<a href=\"https://colab.research.google.com/github/jeraldflowers/Linear-Algebra-for-ML-and-PCA/blob/main/interpretation_of_singular_values.ipynb\" target=\"_parent\"><img src=\"https://colab.research.google.com/assets/colab-badge.svg\" alt=\"Open In Colab\"/></a>"
      ]
    },
    {
      "cell_type": "code",
      "execution_count": null,
      "metadata": {
        "id": "_pv-Eh6IanNP"
      },
      "outputs": [],
      "source": [
        "%matplotlib inline\n",
        "import numpy as np\n",
        "import matplotlib.pyplot as plt"
      ]
    },
    {
      "cell_type": "code",
      "source": [
        "def graphVectors(vecs, cols, alpha=1):\n",
        "  plt.axvline(x=0, color='grey', zorder=0)\n",
        "  plt.axhline(y=0, color='grey', zorder=0)\n",
        "\n",
        "  for i in range(len(vecs)):\n",
        "    x = np.concatenate([[0,0], vecs[i]])\n",
        "    plt.quiver([x[0]],\n",
        "               [x[1]],\n",
        "               [x[2]],\n",
        "               [x[3]],\n",
        "               angles='xy', scale_units='xy',\n",
        "               scale=1, color=cols[i], alpha=alpha)"
      ],
      "metadata": {
        "id": "LX9Ct4jxf-JY"
      },
      "execution_count": null,
      "outputs": []
    },
    {
      "cell_type": "code",
      "source": [
        "def graphMatrix(matrix, vectorCol=['red', 'blue']):\n",
        "\n",
        "  # unitary circle\n",
        "  x = np.linspace(-1,1, 100000)\n",
        "  y = np.sqrt(1-(x**2))\n",
        "\n",
        "  # transformed unitary circle\n",
        "  x1 = matrix[0,0]*x + matrix[0,1]*y\n",
        "  y1 = matrix[1,0]*x + matrix[1,1]*y\n",
        "  x1_neg = matrix[0,0]*x - matrix[0,1]*y\n",
        "  y1_neg = matrix[1,0]*x - matrix[1,1]*y\n",
        "\n",
        "  # vectors\n",
        "  u1 = [matrix[0,0], matrix[1,0]]\n",
        "  v1 = [matrix[0,1], matrix[1,1]]\n",
        "\n",
        "  graphVectors([u1, v1], cols=[vectorCol[0], vectorCol[1]])\n",
        "\n",
        "  plt.plot(x1, y1, 'green', alpha=0.7)\n",
        "  plt.plot(x1_neg, y1_neg, 'green', alpha=0.7)\n"
      ],
      "metadata": {
        "id": "9vDzynHwgCWS"
      },
      "execution_count": null,
      "outputs": []
    },
    {
      "cell_type": "code",
      "source": [
        "A = np.array([[3,7], [5,2]])\n",
        "print(A)"
      ],
      "metadata": {
        "colab": {
          "base_uri": "https://localhost:8080/"
        },
        "id": "2FbknnhtgEcA",
        "outputId": "299d9991-6a3d-46f8-c7dd-c01ac1f42410"
      },
      "execution_count": null,
      "outputs": [
        {
          "output_type": "stream",
          "name": "stdout",
          "text": [
            "[[3 7]\n",
            " [5 2]]\n"
          ]
        }
      ]
    },
    {
      "cell_type": "code",
      "source": [
        "U, D, V = np.linalg.svd(A)\n",
        "\n",
        "print(D[0])\n",
        "print(D[1])"
      ],
      "metadata": {
        "colab": {
          "base_uri": "https://localhost:8080/"
        },
        "id": "R8oOn8OwgKuP",
        "outputId": "3d71bcfa-ea40-4382-9f8b-0f0d9906d3f8"
      },
      "execution_count": null,
      "outputs": [
        {
          "output_type": "stream",
          "name": "stdout",
          "text": [
            "8.7133796929634\n",
            "3.3282148858288965\n"
          ]
        }
      ]
    },
    {
      "cell_type": "code",
      "source": [
        "u1 = [D[0]*U[0,0], D[0]*U[0,1]]\n",
        "v1 = [D[1]*U[1,0], D[1]*U[1,1]]\n",
        "\n",
        "print([A[0,0], A[1,0]])\n",
        "print(u1)\n",
        "print()\n",
        "print([A[0,1], A[1,1]])\n",
        "print(v1)"
      ],
      "metadata": {
        "colab": {
          "base_uri": "https://localhost:8080/"
        },
        "id": "W_QwRTG_gUh1",
        "outputId": "84822330-54d0-4128-9bb5-6f6808790d02"
      },
      "execution_count": null,
      "outputs": [
        {
          "output_type": "stream",
          "name": "stdout",
          "text": [
            "[3, 5]\n",
            "[-7.4120434792975685, -4.580894796297923]\n",
            "\n",
            "[7, 2]\n",
            "[-1.7497461132982814, 2.8311486829996433]\n"
          ]
        }
      ]
    },
    {
      "cell_type": "code",
      "source": [
        "graphMatrix(A)\n",
        "graphVectors([u1, v1], cols=['red', 'blue'])\n",
        "\n",
        "plt.text(3,5, r\"$u_1$\", size=18)\n",
        "plt.text(7,2, r\"$v_1$\", size=18)\n",
        "\n",
        "plt.text(-5,-4, r\"$D(u_1)$\", size=18)\n",
        "plt.text(-4,1, r\"$D(v_1)$\", size=18)\n",
        "\n",
        "plt.xlim(-8, 8)\n",
        "plt.ylim(-8, 8)"
      ],
      "metadata": {
        "colab": {
          "base_uri": "https://localhost:8080/",
          "height": 286
        },
        "id": "x5LxbF_Ng2Gx",
        "outputId": "06ebaf28-80af-4fab-fd22-c60de2a14056"
      },
      "execution_count": null,
      "outputs": [
        {
          "output_type": "execute_result",
          "data": {
            "text/plain": [
              "(-8.0, 8.0)"
            ]
          },
          "metadata": {},
          "execution_count": 8
        },
        {
          "output_type": "display_data",
          "data": {
            "text/plain": [
              "<Figure size 432x288 with 1 Axes>"
            ],
            "image/png": "[encoded data removed]"
          },
          "metadata": {
            "needs_background": "light"
          }
        }
      ]
    },
    {
      "cell_type": "code",
      "source": [],
      "metadata": {
        "id": "YL0A5STthcZw"
      },
      "execution_count": null,
      "outputs": []
    }
  ]
}