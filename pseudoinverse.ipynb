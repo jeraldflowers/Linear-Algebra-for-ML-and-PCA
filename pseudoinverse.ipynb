{
  "nbformat": 4,
  "nbformat_minor": 0,
  "metadata": {
    "colab": {
      "provenance": [],
      "authorship_tag": "ABX9TyPSy24SxD5W7ik78CoWMaMI",
      "include_colab_link": true
    },
    "kernelspec": {
      "name": "python3",
      "display_name": "Python 3"
    },
    "language_info": {
      "name": "python"
    }
  },
  "cells": [
    {
      "cell_type": "markdown",
      "metadata": {
        "id": "view-in-github",
        "colab_type": "text"
      },
      "source": [
        "<a href=\"https://colab.research.google.com/github/jeraldflowers/Linear-Algebra-for-ML-and-PCA/blob/main/pseudoinverse.ipynb\" target=\"_parent\"><img src=\"https://colab.research.google.com/assets/colab-badge.svg\" alt=\"Open In Colab\"/></a>"
      ]
    },
    {
      "cell_type": "code",
      "execution_count": null,
      "metadata": {
        "id": "1wCBaNr_x4Ah"
      },
      "outputs": [],
      "source": [
        "import numpy as np\n",
        "\n",
        "np.set_printoptions(suppress=True)"
      ]
    },
    {
      "cell_type": "code",
      "source": [
        "A = np.array([[2,3], [5,7], [11,13]])\n",
        "print(A)"
      ],
      "metadata": {
        "colab": {
          "base_uri": "https://localhost:8080/"
        },
        "id": "1TvD8utWyB5y",
        "outputId": "17987a90-c45b-4960-8034-a5d0eae87a73"
      },
      "execution_count": null,
      "outputs": [
        {
          "output_type": "stream",
          "name": "stdout",
          "text": [
            "[[ 2  3]\n",
            " [ 5  7]\n",
            " [11 13]]\n"
          ]
        }
      ]
    },
    {
      "cell_type": "code",
      "source": [
        "U, D, V = np.linalg.svd(A)\n",
        "print(\"U\")\n",
        "print(U)\n",
        "print(\"D\")\n",
        "print(D)\n",
        "print(\"V\")\n",
        "print(V)"
      ],
      "metadata": {
        "colab": {
          "base_uri": "https://localhost:8080/"
        },
        "id": "e_Y4i5aryHp6",
        "outputId": "b63fdf1e-fd14-4d47-a44d-a3dcc3bc95ce"
      },
      "execution_count": null,
      "outputs": [
        {
          "output_type": "stream",
          "name": "stdout",
          "text": [
            "U\n",
            "[[-0.18499741 -0.47276624 -0.86154979]\n",
            " [-0.44249308 -0.74271297  0.50257071]\n",
            " [-0.87748267  0.4742041  -0.07179582]]\n",
            "D\n",
            "[19.40321383  0.71783924]\n",
            "V\n",
            "[[-0.63055377 -0.77614557]\n",
            " [ 0.77614557 -0.63055377]]\n"
          ]
        }
      ]
    },
    {
      "cell_type": "code",
      "source": [
        "D_pse = np.zeros((A.shape[0], A.shape[1])).T\n",
        "print(D_pse)"
      ],
      "metadata": {
        "colab": {
          "base_uri": "https://localhost:8080/"
        },
        "id": "RMLVjkh4yY2c",
        "outputId": "7c528f6d-7fd0-4e07-9d1b-e9f7d313a67d"
      },
      "execution_count": null,
      "outputs": [
        {
          "output_type": "stream",
          "name": "stdout",
          "text": [
            "[[0. 0. 0.]\n",
            " [0. 0. 0.]]\n"
          ]
        }
      ]
    },
    {
      "cell_type": "code",
      "source": [
        "print(\"Values to Replace in D_pse\")\n",
        "print(D_pse[:D.shape[0], :D.shape[0]])"
      ],
      "metadata": {
        "colab": {
          "base_uri": "https://localhost:8080/"
        },
        "id": "NTr8URNpyv0G",
        "outputId": "bbdc653b-893b-4c0d-eec2-b197e3494855"
      },
      "execution_count": null,
      "outputs": [
        {
          "output_type": "stream",
          "name": "stdout",
          "text": [
            "Values to Replace in D_pse\n",
            "[[0. 0.]\n",
            " [0. 0.]]\n"
          ]
        }
      ]
    },
    {
      "cell_type": "code",
      "source": [
        "print(\"Values to will put in D_pse\")\n",
        "print(np.linalg.inv(np.diag(D)))"
      ],
      "metadata": {
        "colab": {
          "base_uri": "https://localhost:8080/"
        },
        "id": "0OvKTVrqy-EA",
        "outputId": "dc184b04-cd67-4531-c0da-f5bbb3dd7203"
      },
      "execution_count": null,
      "outputs": [
        {
          "output_type": "stream",
          "name": "stdout",
          "text": [
            "Values to will put in D_pse\n",
            "[[0.05153785 0.        ]\n",
            " [0.         1.39306957]]\n"
          ]
        }
      ]
    },
    {
      "cell_type": "code",
      "source": [
        "print(\"D_pse\")\n",
        "D_pse[:D.shape[0], :D.shape[0]] = np.linalg.inv(np.diag(D))\n",
        "print(D_pse)"
      ],
      "metadata": {
        "colab": {
          "base_uri": "https://localhost:8080/"
        },
        "id": "OMOg3eXAzSPE",
        "outputId": "ba54060c-7bd0-44d9-f42a-38f0eac3928c"
      },
      "execution_count": null,
      "outputs": [
        {
          "output_type": "stream",
          "name": "stdout",
          "text": [
            "D_pse\n",
            "[[0.05153785 0.         0.        ]\n",
            " [0.         1.39306957 0.        ]]\n"
          ]
        }
      ]
    },
    {
      "cell_type": "code",
      "source": [
        "A_pse = V.T.dot(D_pse).dot(U.T)\n",
        "print(A_pse)"
      ],
      "metadata": {
        "colab": {
          "base_uri": "https://localhost:8080/"
        },
        "id": "_hMmB_26z2c2",
        "outputId": "bd638859-a527-406b-d305-3a7a27d6d375"
      },
      "execution_count": null,
      "outputs": [
        {
          "output_type": "stream",
          "name": "stdout",
          "text": [
            "[[-0.50515464 -0.78865979  0.54123711]\n",
            " [ 0.42268041  0.67010309 -0.3814433 ]]\n"
          ]
        }
      ]
    },
    {
      "cell_type": "code",
      "source": [
        "A_pse_calc = np.linalg.pinv(A)\n",
        "print(A_pse_calc)"
      ],
      "metadata": {
        "colab": {
          "base_uri": "https://localhost:8080/"
        },
        "id": "TmRQsAlGz7_U",
        "outputId": "9f46b032-6a52-420d-96d8-317ebb59b629"
      },
      "execution_count": null,
      "outputs": [
        {
          "output_type": "stream",
          "name": "stdout",
          "text": [
            "[[-0.50515464 -0.78865979  0.54123711]\n",
            " [ 0.42268041  0.67010309 -0.3814433 ]]\n"
          ]
        }
      ]
    },
    {
      "cell_type": "code",
      "source": [
        "print(A_pse.dot(A))"
      ],
      "metadata": {
        "colab": {
          "base_uri": "https://localhost:8080/"
        },
        "id": "Cc74Hw6I0J9r",
        "outputId": "091716ca-c85f-4a25-a144-b3a74d73cad6"
      },
      "execution_count": null,
      "outputs": [
        {
          "output_type": "stream",
          "name": "stdout",
          "text": [
            "[[ 1. -0.]\n",
            " [ 0.  1.]]\n"
          ]
        }
      ]
    },
    {
      "cell_type": "code",
      "source": [
        "np.set_printoptions(suppress=False)\n",
        "print(A_pse.dot(A))"
      ],
      "metadata": {
        "colab": {
          "base_uri": "https://localhost:8080/"
        },
        "id": "TegYd6230Sv1",
        "outputId": "4963e701-884a-45b6-d6cf-9eb38e3a46bb"
      },
      "execution_count": null,
      "outputs": [
        {
          "output_type": "stream",
          "name": "stdout",
          "text": [
            "[[ 1.00000000e+00 -1.77635684e-15]\n",
            " [ 4.44089210e-16  1.00000000e+00]]\n"
          ]
        }
      ]
    },
    {
      "cell_type": "code",
      "source": [
        "print(A.dot(A_pse))"
      ],
      "metadata": {
        "colab": {
          "base_uri": "https://localhost:8080/"
        },
        "id": "Bgm5mncU0moT",
        "outputId": "56422167-f728-419e-a822-d6f51057b765"
      },
      "execution_count": null,
      "outputs": [
        {
          "output_type": "stream",
          "name": "stdout",
          "text": [
            "[[ 0.25773196  0.43298969 -0.06185567]\n",
            " [ 0.43298969  0.74742268  0.03608247]\n",
            " [-0.06185567  0.03608247  0.99484536]]\n"
          ]
        }
      ]
    },
    {
      "cell_type": "code",
      "source": [
        "A_pse_2 = np.linalg.inv(A.T.dot(A)).dot(A.T)\n",
        "print(A_pse_2)"
      ],
      "metadata": {
        "colab": {
          "base_uri": "https://localhost:8080/"
        },
        "id": "f_go-JYK0seU",
        "outputId": "5af15d5f-ab75-4b60-dcf3-d57a3c439060"
      },
      "execution_count": null,
      "outputs": [
        {
          "output_type": "stream",
          "name": "stdout",
          "text": [
            "[[-0.50515464 -0.78865979  0.54123711]\n",
            " [ 0.42268041  0.67010309 -0.3814433 ]]\n"
          ]
        }
      ]
    },
    {
      "cell_type": "code",
      "source": [
        "print(A_pse)"
      ],
      "metadata": {
        "colab": {
          "base_uri": "https://localhost:8080/"
        },
        "id": "7UhbRs_R07Rt",
        "outputId": "8a2ed638-4c59-40c8-9838-dc0201c8bc40"
      },
      "execution_count": null,
      "outputs": [
        {
          "output_type": "stream",
          "name": "stdout",
          "text": [
            "[[-0.50515464 -0.78865979  0.54123711]\n",
            " [ 0.42268041  0.67010309 -0.3814433 ]]\n"
          ]
        }
      ]
    },
    {
      "cell_type": "markdown",
      "source": [
        "## Using Pseudoinverse"
      ],
      "metadata": {
        "id": "KqRYPRtL15i1"
      }
    },
    {
      "cell_type": "code",
      "source": [
        "%matplotlib inline\n",
        "import matplotlib.pyplot as plt"
      ],
      "metadata": {
        "id": "VQSWpbgP2Y6V"
      },
      "execution_count": null,
      "outputs": []
    },
    {
      "cell_type": "code",
      "source": [
        "x = np.linspace(-5, 5, 1000)\n",
        "\n",
        "y_1 = -4*x + 3\n",
        "y_2 = 2*x + 5\n",
        "y_3 = -3*x + 1\n",
        "\n",
        "plt.plot(x, y_1)\n",
        "plt.plot(x, y_2)\n",
        "plt.plot(x, y_3)\n",
        "\n",
        "plt.xlim(-2, 2.5)\n",
        "plt.ylim(-6, 6)\n",
        "\n",
        "plt.show()"
      ],
      "metadata": {
        "colab": {
          "base_uri": "https://localhost:8080/",
          "height": 269
        },
        "id": "c1VU5W-51G4Q",
        "outputId": "1431938a-0c6d-4c08-d387-f82e7f74b7d1"
      },
      "execution_count": null,
      "outputs": [
        {
          "output_type": "display_data",
          "data": {
            "text/plain": [
              "<Figure size 432x288 with 1 Axes>"
            ],
            "image/png": "[encoded data removed]"
          },
          "metadata": {
            "needs_background": "light"
          }
        }
      ]
    },
    {
      "cell_type": "code",
      "source": [
        "matrix = np.array([[4, 1], [-2, 1], [3, 1]])\n",
        "print(matrix)"
      ],
      "metadata": {
        "colab": {
          "base_uri": "https://localhost:8080/"
        },
        "id": "kJGZGvAQ2m2b",
        "outputId": "9395d101-6265-4173-9baf-0553b97960dd"
      },
      "execution_count": null,
      "outputs": [
        {
          "output_type": "stream",
          "name": "stdout",
          "text": [
            "[[ 4  1]\n",
            " [-2  1]\n",
            " [ 3  1]]\n"
          ]
        }
      ]
    },
    {
      "cell_type": "code",
      "source": [
        "matrix_pse = np.linalg.pinv(matrix)\n",
        "print(matrix_pse)"
      ],
      "metadata": {
        "colab": {
          "base_uri": "https://localhost:8080/"
        },
        "id": "s1FfcbnH2457",
        "outputId": "81dfb18a-40aa-4e64-9f03-ce4473b6b513"
      },
      "execution_count": null,
      "outputs": [
        {
          "output_type": "stream",
          "name": "stdout",
          "text": [
            "[[ 0.11290323 -0.17741935  0.06451613]\n",
            " [ 0.14516129  0.62903226  0.22580645]]\n"
          ]
        }
      ]
    },
    {
      "cell_type": "code",
      "source": [
        "b = np.array([[3], [5], [1]])\n",
        "print(b)"
      ],
      "metadata": {
        "colab": {
          "base_uri": "https://localhost:8080/"
        },
        "id": "p5jOp-5a3AJZ",
        "outputId": "09b3cce6-04f8-43e5-ab59-71481d9ac81a"
      },
      "execution_count": null,
      "outputs": [
        {
          "output_type": "stream",
          "name": "stdout",
          "text": [
            "[[3]\n",
            " [5]\n",
            " [1]]\n"
          ]
        }
      ]
    },
    {
      "cell_type": "code",
      "source": [
        "result = matrix_pse.dot(b)\n",
        "print(result)"
      ],
      "metadata": {
        "colab": {
          "base_uri": "https://localhost:8080/"
        },
        "id": "nrpbawsN3HmL",
        "outputId": "92388683-05e8-42d7-f281-220bec536abc"
      },
      "execution_count": null,
      "outputs": [
        {
          "output_type": "stream",
          "name": "stdout",
          "text": [
            "[[-0.48387097]\n",
            " [ 3.80645161]]\n"
          ]
        }
      ]
    },
    {
      "cell_type": "code",
      "source": [
        "plt.plot(x, y_1)\n",
        "plt.plot(x, y_2)\n",
        "plt.plot(x, y_3)\n",
        "\n",
        "plt.xlim(-2, 2.5)\n",
        "plt.ylim(-6, 6)\n",
        "\n",
        "plt.scatter(result[0], result[1])\n",
        "\n",
        "plt.show()"
      ],
      "metadata": {
        "colab": {
          "base_uri": "https://localhost:8080/",
          "height": 269
        },
        "id": "er7Aq9PN3MjH",
        "outputId": "cefcd2f6-03e7-43ad-e09a-0ecaaad2a6ad"
      },
      "execution_count": null,
      "outputs": [
        {
          "output_type": "display_data",
          "data": {
            "text/plain": [
              "<Figure size 432x288 with 1 Axes>"
            ],
            "image/png": "[encoded data removed]"
          },
          "metadata": {
            "needs_background": "light"
          }
        }
      ]
    },
    {
      "cell_type": "code",
      "source": [],
      "metadata": {
        "id": "v57MASLt3aEB"
      },
      "execution_count": null,
      "outputs": []
    }
  ]
}