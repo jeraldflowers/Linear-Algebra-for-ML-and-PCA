{
  "nbformat": 4,
  "nbformat_minor": 0,
  "metadata": {
    "colab": {
      "provenance": [],
      "authorship_tag": "ABX9TyPkpepjxc8fSnR81jW0nZTY",
      "include_colab_link": true
    },
    "kernelspec": {
      "name": "python3",
      "display_name": "Python 3"
    },
    "language_info": {
      "name": "python"
    }
  },
  "cells": [
    {
      "cell_type": "markdown",
      "metadata": {
        "id": "view-in-github",
        "colab_type": "text"
      },
      "source": [
        "<a href=\"https://colab.research.google.com/github/jeraldflowers/Linear-Algebra-for-ML-and-PCA/blob/main/autovalores_autovectores.ipynb\" target=\"_parent\"><img src=\"https://colab.research.google.com/assets/colab-badge.svg\" alt=\"Open In Colab\"/></a>"
      ]
    },
    {
      "cell_type": "code",
      "execution_count": null,
      "metadata": {
        "id": "91gYsCpaCiAb"
      },
      "outputs": [],
      "source": [
        "%matplotlib inline\n",
        "\n",
        "import numpy as np\n",
        "import matplotlib.pyplot as plt"
      ]
    },
    {
      "cell_type": "code",
      "source": [
        "def graphVectors(vecs, cols, alpha=1):\n",
        "  plt.axvline(x=0, color='grey', zorder=0)\n",
        "  plt.axhline(y=0, color='grey', zorder=0)\n",
        "\n",
        "  for i in range(len(vecs)):\n",
        "    x = np.concatenate([[0,0], vecs[i]])\n",
        "    plt.quiver([x[0]],\n",
        "               [x[1]],\n",
        "               [x[2]],\n",
        "               [x[3]],\n",
        "               angles='xy', scale_units='xy',\n",
        "               scale=1, color=cols[i], alpha=alpha)"
      ],
      "metadata": {
        "id": "m0bmQz9TCyDg"
      },
      "execution_count": null,
      "outputs": []
    },
    {
      "cell_type": "code",
      "source": [
        "orange_light = '#FF9A13'\n",
        "blue_light = '#1190FF'"
      ],
      "metadata": {
        "id": "ZeqPfuy8C3Gp"
      },
      "execution_count": null,
      "outputs": []
    },
    {
      "cell_type": "code",
      "source": [
        "X = np.array([[3,2], [4,1]])\n",
        "print(X)"
      ],
      "metadata": {
        "colab": {
          "base_uri": "https://localhost:8080/"
        },
        "id": "ZR6hy4OxDAag",
        "outputId": "7d064175-fd94-47ea-a086-f87af18db03e"
      },
      "execution_count": null,
      "outputs": [
        {
          "output_type": "stream",
          "name": "stdout",
          "text": [
            "[[3 2]\n",
            " [4 1]]\n"
          ]
        }
      ]
    },
    {
      "cell_type": "code",
      "source": [
        "v = np.array([[1], [1]])\n",
        "print(v)"
      ],
      "metadata": {
        "colab": {
          "base_uri": "https://localhost:8080/"
        },
        "id": "XZGs7ah9DFtp",
        "outputId": "65dd40ba-404f-4fc4-961f-d99840294a81"
      },
      "execution_count": null,
      "outputs": [
        {
          "output_type": "stream",
          "name": "stdout",
          "text": [
            "[[1]\n",
            " [1]]\n"
          ]
        }
      ]
    },
    {
      "cell_type": "code",
      "source": [
        "u = X.dot(v)\n",
        "print(u)"
      ],
      "metadata": {
        "colab": {
          "base_uri": "https://localhost:8080/"
        },
        "id": "-M67lO9jDM7W",
        "outputId": "c32ae9b6-201e-4295-8d18-d9fc265dd72d"
      },
      "execution_count": null,
      "outputs": [
        {
          "output_type": "stream",
          "name": "stdout",
          "text": [
            "[[5]\n",
            " [5]]\n"
          ]
        }
      ]
    },
    {
      "cell_type": "code",
      "source": [
        "graphVectors([u.flatten(), v.flatten()], cols=[orange_light, blue_light])\n",
        "\n",
        "plt.xlim(-1, 6)\n",
        "plt.ylim(-1, 6)"
      ],
      "metadata": {
        "colab": {
          "base_uri": "https://localhost:8080/",
          "height": 286
        },
        "id": "L2wO-tomDTun",
        "outputId": "504fb5f8-80da-439b-c162-f6cc7fcdcf90"
      },
      "execution_count": null,
      "outputs": [
        {
          "output_type": "execute_result",
          "data": {
            "text/plain": [
              "(-1.0, 6.0)"
            ]
          },
          "metadata": {},
          "execution_count": 10
        },
        {
          "output_type": "display_data",
          "data": {
            "text/plain": [
              "<Figure size 432x288 with 1 Axes>"
            ],
            "image/png": "[encoded data removed]"
          },
          "metadata": {
            "needs_background": "light"
          }
        }
      ]
    },
    {
      "cell_type": "code",
      "source": [
        "lambda_1 = 5\n",
        "\n",
        "lambda_1*v"
      ],
      "metadata": {
        "colab": {
          "base_uri": "https://localhost:8080/"
        },
        "id": "ObS0YdZlDi0C",
        "outputId": "4ddded8a-4b4c-4629-a750-22d60b8173d2"
      },
      "execution_count": null,
      "outputs": [
        {
          "output_type": "execute_result",
          "data": {
            "text/plain": [
              "array([[5],\n",
              "       [5]])"
            ]
          },
          "metadata": {},
          "execution_count": 11
        }
      ]
    },
    {
      "cell_type": "markdown",
      "source": [
        "Un autovector es aquel que cuando le aplico una matrix me devuelve el vector con la misma dirección pero puede tener una amplitud distinta, osea puede estar multiplicado por el autovalor."
      ],
      "metadata": {
        "id": "p4kzesHHEFdF"
      }
    },
    {
      "cell_type": "code",
      "source": [
        "s = np.array([[-1], [2]])\n",
        "print(s)"
      ],
      "metadata": {
        "colab": {
          "base_uri": "https://localhost:8080/"
        },
        "id": "AasNZl-vD8U7",
        "outputId": "9960fdd7-174a-47ef-eb76-c889ef6dba2a"
      },
      "execution_count": null,
      "outputs": [
        {
          "output_type": "stream",
          "name": "stdout",
          "text": [
            "[[-1]\n",
            " [ 2]]\n"
          ]
        }
      ]
    },
    {
      "cell_type": "code",
      "source": [
        "t = X.dot(s)\n",
        "print(t)"
      ],
      "metadata": {
        "colab": {
          "base_uri": "https://localhost:8080/"
        },
        "id": "23UkJUutFIOx",
        "outputId": "8fdab8f8-55d2-4524-bd14-8eb07908b546"
      },
      "execution_count": null,
      "outputs": [
        {
          "output_type": "stream",
          "name": "stdout",
          "text": [
            "[[ 1]\n",
            " [-2]]\n"
          ]
        }
      ]
    },
    {
      "cell_type": "code",
      "source": [
        "graphVectors([t.flatten(), s.flatten()], cols=[orange_light, blue_light])\n",
        "\n",
        "plt.xlim(-3, 3)\n",
        "plt.ylim(-3, 3)"
      ],
      "metadata": {
        "colab": {
          "base_uri": "https://localhost:8080/",
          "height": 286
        },
        "id": "yLJCQdOPFLgc",
        "outputId": "5ef88cf7-7820-43f8-b918-8442d325acbe"
      },
      "execution_count": null,
      "outputs": [
        {
          "output_type": "execute_result",
          "data": {
            "text/plain": [
              "(-3.0, 3.0)"
            ]
          },
          "metadata": {},
          "execution_count": 14
        },
        {
          "output_type": "display_data",
          "data": {
            "text/plain": [
              "<Figure size 432x288 with 1 Axes>"
            ],
            "image/png": "[encoded data removed]"
          },
          "metadata": {
            "needs_background": "light"
          }
        }
      ]
    },
    {
      "cell_type": "markdown",
      "source": [
        "## Calcular autovalores y autovectores"
      ],
      "metadata": {
        "id": "H1aZKEFSFs2M"
      }
    },
    {
      "cell_type": "code",
      "source": [
        "X = np.array([[3,2], [4,1]])\n",
        "print(X)"
      ],
      "metadata": {
        "colab": {
          "base_uri": "https://localhost:8080/"
        },
        "id": "hdIsmjpAFcyF",
        "outputId": "37b59171-8131-41d4-a836-f2b0efa025c5"
      },
      "execution_count": null,
      "outputs": [
        {
          "output_type": "stream",
          "name": "stdout",
          "text": [
            "[[3 2]\n",
            " [4 1]]\n"
          ]
        }
      ]
    },
    {
      "cell_type": "code",
      "source": [
        "print(np.linalg.eig(X))"
      ],
      "metadata": {
        "colab": {
          "base_uri": "https://localhost:8080/"
        },
        "id": "zYyECLs5F-tJ",
        "outputId": "97af01a3-a794-4094-c9ff-9fa76fc68666"
      },
      "execution_count": null,
      "outputs": [
        {
          "output_type": "stream",
          "name": "stdout",
          "text": [
            "(array([ 5., -1.]), array([[ 0.70710678, -0.4472136 ],\n",
            "       [ 0.70710678,  0.89442719]]))\n"
          ]
        }
      ]
    },
    {
      "cell_type": "code",
      "source": [
        "autovalores, autovectores = np.linalg.eig(X)\n",
        "print(autovalores)"
      ],
      "metadata": {
        "colab": {
          "base_uri": "https://localhost:8080/"
        },
        "id": "Zw1m8lXrGIqh",
        "outputId": "be307648-a69d-497d-d4d3-6c646d1ea725"
      },
      "execution_count": null,
      "outputs": [
        {
          "output_type": "stream",
          "name": "stdout",
          "text": [
            "[ 5. -1.]\n"
          ]
        }
      ]
    },
    {
      "cell_type": "code",
      "source": [
        "print(autovectores[:, 0])"
      ],
      "metadata": {
        "colab": {
          "base_uri": "https://localhost:8080/"
        },
        "id": "b0oN6hmaGdY1",
        "outputId": "270c818e-e50e-4101-96d8-37150fb4b4c1"
      },
      "execution_count": null,
      "outputs": [
        {
          "output_type": "stream",
          "name": "stdout",
          "text": [
            "[0.70710678 0.70710678]\n"
          ]
        }
      ]
    },
    {
      "cell_type": "code",
      "source": [
        "print(autovectores[:, 1])"
      ],
      "metadata": {
        "colab": {
          "base_uri": "https://localhost:8080/"
        },
        "id": "mldy1lXYGmoo",
        "outputId": "7ba8c093-18cd-4744-e86d-9bb6a5e22720"
      },
      "execution_count": null,
      "outputs": [
        {
          "output_type": "stream",
          "name": "stdout",
          "text": [
            "[-0.4472136   0.89442719]\n"
          ]
        }
      ]
    },
    {
      "cell_type": "code",
      "source": [
        "v = np.array([[-1], [2]])\n",
        "\n",
        "Xv = X.dot(v)\n",
        "\n",
        "v_np = autovectores[:,1]"
      ],
      "metadata": {
        "id": "TJay_HKDGvTw"
      },
      "execution_count": null,
      "outputs": []
    },
    {
      "cell_type": "code",
      "source": [
        "graphVectors([Xv.flatten(), v.flatten(), v_np], cols=['green', 'orange', 'blue'])\n",
        "\n",
        "plt.xlim(-6, 2)\n",
        "plt.ylim(-3, 2)"
      ],
      "metadata": {
        "colab": {
          "base_uri": "https://localhost:8080/",
          "height": 286
        },
        "id": "d1RvtOCeHDB9",
        "outputId": "83e9b744-b080-438d-ce15-2bb7448b3260"
      },
      "execution_count": null,
      "outputs": [
        {
          "output_type": "execute_result",
          "data": {
            "text/plain": [
              "(-3.0, 2.0)"
            ]
          },
          "metadata": {},
          "execution_count": 22
        },
        {
          "output_type": "display_data",
          "data": {
            "text/plain": [
              "<Figure size 432x288 with 1 Axes>"
            ],
            "image/png": "[encoded data removed]"
          },
          "metadata": {
            "needs_background": "light"
          }
        }
      ]
    },
    {
      "cell_type": "code",
      "source": [],
      "metadata": {
        "id": "x1Js_rqyHhl1"
      },
      "execution_count": null,
      "outputs": []
    }
  ]
}